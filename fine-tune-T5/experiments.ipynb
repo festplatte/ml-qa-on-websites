{
 "metadata": {
  "language_info": {
   "codemirror_mode": {
    "name": "ipython",
    "version": 3
   },
   "file_extension": ".py",
   "mimetype": "text/x-python",
   "name": "python",
   "nbconvert_exporter": "python",
   "pygments_lexer": "ipython3",
   "version": "3.8.5-final"
  },
  "orig_nbformat": 2,
  "kernelspec": {
   "name": "Python 3.8.5 64-bit ('venv')",
   "display_name": "Python 3.8.5 64-bit ('venv')",
   "metadata": {
    "interpreter": {
     "hash": "f4e5e36950ada921764611dcbd36575751904fa09e0a3f7f581ec3ba28628429"
    }
   }
  }
 },
 "nbformat": 4,
 "nbformat_minor": 2,
 "cells": [
  {
   "cell_type": "code",
   "execution_count": 18,
   "metadata": {},
   "outputs": [],
   "source": [
    "from transformers import AutoModelWithLMHead, AutoTokenizer\n",
    "\n",
    "model = AutoModelWithLMHead.from_pretrained('./data/custom-T5')\n",
    "tokenizer = AutoTokenizer.from_pretrained('./data/custom-T5')"
   ]
  },
  {
   "cell_type": "code",
   "execution_count": 15,
   "metadata": {},
   "outputs": [
    {
     "output_type": "execute_result",
     "data": {
      "text/plain": [
       "('./data/custom-T5/spiece.model',\n",
       " './data/custom-T5/special_tokens_map.json',\n",
       " './data/custom-T5/added_tokens.json')"
      ]
     },
     "metadata": {},
     "execution_count": 15
    }
   ],
   "source": [
    "model.save_pretrained('./data/custom-T5')\n",
    "tokenizer.save_pretrained('./data/custom-T5')"
   ]
  },
  {
   "cell_type": "code",
   "execution_count": 3,
   "metadata": {},
   "outputs": [],
   "source": [
    "QUERY = \"\"\"question: who is considered the father of modern medicine\n",
    "context: Hippocrates is widely considered to be the Father of Medicine. His contributions revolutionized the practice of medicine; but after his death the advancement stalled.\n",
    "Many of the invaluable lessons prescribed in that place of learning are assigned to Hippocrates. If that was the case, then it truly was Hippocrates, with his approach to healing and the role of the doctor, that influenced western medicine for thousands of years.\n",
    "Despite this, Hippocrates is attributed with a great many wonderful deeds and thoughts. He is recognised as the founder of the Hippocratic School of Medicine, a college that revolutionized the understanding of medicine in Ancient Greece.\n",
    "At least that is what we’d like to think. While his fame was such to warrant a mention from the likes of Plato and Aristotle, not much is actually known about Hippocrates the father of Medicine. Consequently, he has become the projection of what people ideally want in a physician.\n",
    "460 – c. 370 BC) was a Greek physician of the Age of Pericles (Classical Greece), and is considered one of the most outstanding figures in the history of medicine.\n",
    "TRUE. Hippocrates is considered the father of modern medicine because he did not believe that illness was a punishment inflicted by the gods. True False. Weegy: TRUE. [ \n",
    "The two sons of Hippocrates, Thessalus and Draco, and his son-in-law, Polybus, were his students. According to Galen, a later physician, Polybus was Hippocrates' true successor, while Thessalus and Draco each had a son named Hippocrates.\n",
    "Hippocrates is mentioned in passing in the writings of two contemporaries: Plato, in Protagoras and Phaedrus, and, Aristotle 's Politics, which date from the 4th century BC. Soranus wrote that Hippocrates' father was Heraclides, a physician, and his mother was Praxitela, daughter of Tizane.\n",
    "Reload the page to try again! Press Cmd-0 to reset your zoom. Press Ctrl-0 to reset your zoom. It looks like your browser might be zoomed in or out. Your browser needs to be zoomed to a normal size to record audio.\n",
    "However, the achievements of the writers of the Corpus, the practitioners of Hippocratic medicine, and the actions of Hippocrates himself were often commingled; thus very little is known about what Hippocrates actually thought, wrote, and did.\"\"\""
   ]
  },
  {
   "cell_type": "code",
   "execution_count": 16,
   "metadata": {},
   "outputs": [],
   "source": [
    "QUERY = \"\"\"question: Wie hoch ist der Obelisk im Vatikan?\n",
    "context: Der größte stehende und höchste ägyptische Obelisk ist der Lateran-Obelisk auf dem Platz vor der Lateran-Basilika in Rom mit einer Höhe von 32,2 m (105,6 Fuß) und einem Gewicht von 455 Tonnen. Nicht alle ägyptischen Obelisken des Römischen Reiches wurden in Rom aufgestellt. Eine Reihe von Obelisken wurden im alten Axumitischen Königreich des heutigen Nord-Äthiopiens geschnitzt. Zusammen mit der (21 m hohen) Stele des Königs Ezana, der letzten errichteten und einzigen ungebrochenen Stele, ist der sogenannte (24 m hohe) Obelisk von Axum das berühmteste Beispiel für einen Axum-Obelisken.\n",
    "Stunden: Jederzeit einsehbar, solange der Platz nicht wegen eines päpstlichen Auftritts für die Öffentlichkeit gesperrt ist, was voraussichtlich am Mittwochvormittag der Fall sein wird. Der Vatikanische Obelisk hat eine Höhe von 83,6 Fuß (134,5 Fuß mit Sockel) und wiegt 331 t. Er steht auf einem 27 Fuß breiten Sockel. Dies ist der einzige Obelisk in Rom, der seit der Römerzeit nicht mehr umgestürzt ist. Er kann jederzeit besichtigt werden, solange der Platz nicht wegen eines päpstlichen Erscheinens für die Öffentlichkeit gesperrt ist, was wahrscheinlich am Mittwochmorgen der Fall sein wird. Der Vatikanische Obelisk hat eine Höhe von 83,6 Fuß (134,5 Fuß mit Sockel) und wiegt 331 Tonnen. Er steht auf einem 27 Fuß breiten Sockel.\n",
    "Rom zurück zu Eine Welt der Obelisken Standort: Piazza S. Giovanni, Laterano, Rom, Italien Pharao: Tuthmosis III. (regierte 1504-1450 v. Chr.) Höhe: 105,6 Fuß Gewicht: 455 Tonnen Geschichte: Der sogenannte Lateran-Obelisk ist der größte stehende Obelisk der Welt.ome zurück zu Eine Welt der Obelisken Standort: Piazza S. Giovanni, Laterano, Rom, Italien Pharao: Tuthmosis III. (regierte 1504-1450 v. Chr.) Höhe: 105,6 Fuß Gewicht: 455 Tonnen Geschichte: Der so genannte Lateran-Obelisk ist der größte stehende Obelisk der Welt.\n",
    "Die Stadt Rom beherbergt die meisten Obelisken der Welt. Es gibt acht altägyptische und fünf altrömische Obelisken in Rom, zusammen mit einer Reihe modernerer Obelisken; bis 2005 gab es auch einen alten äthiopischen Obelisken in Rom.allest Obelisken in Rom und den größten stehenden altägyptischen Obelisken der Welt mit einem Gewicht von über 230 Tonnen. Ursprünglich aus dem Amun-Tempel in Karnak. Von Constantius II. mit einem weiteren Obelisken nach Alexandria gebracht und von dort 357 allein nach Rom gebracht, um die Spina des Circus Maximus zu schmücken.\n",
    "Der höchste Obelisk in Rom und der größte stehende altägyptische Obelisk der Welt mit einem Gewicht von über 230 Tonnen. Ursprünglich aus dem Amun-Tempel in Karnak. Von Constantius II. mit einem weiteren Obelisken nach Alexandria gebracht und von dort 357 allein nach Rom gebracht, um die Wirbelsäule des Circus Maximus zu schmücken. Der alleste Obelisk in Rom und der größte stehende altägyptische Obelisk der Welt mit einem Gewicht von über 230 Tonnen. Ursprünglich aus dem Amun-Tempel in Karnak. Von Constantius II. mit einem weiteren Obelisken nach Alexandria gebracht und von dort 357 allein nach Rom gebracht, um die Spina des Circus Maximus zu schmücken.\n",
    "Der höchste ägyptische Obelisk steht auf dem Platz vor der Lateranbasilika in Rom mit einer Höhe von 105,6 Fuß und einem Gewicht von 455 Tonnen. Nicht alle ägyptischen Obelisken, die im Römischen Reich Erektianer haben, wurden in Rom aufgestellt.er Obelisk von Istanbul ist 65 Fuß hoch. Rom ist die Obelisken-Hauptstadt der Welt. Der auffälligste ist der 25,5 m/83,6 ft hohe und 331 Tonnen schwere Obelisk auf dem Petersplatz in Rom. Der Obelisk stand seit 37 n. Chr. an seinem Standort an der Wand des Zirkus von Nero, der den Petersdom flankiert.\n",
    "Er wurde 1587 zusammen mit dem Lateran-Obelisken in Stücke zerbrochen wiederentdeckt und an seinem heutigen Standort aufgestellt. Obelisken aus aller Welt: Flaminio Obelisk, Piazza del Popolo, Rom, Italien. 10. Obelisk von Axum, Axum, Äthiopien - Ein 24 Meter hoher (79 ft) Granit-Obelisk. Flaminio-Obelisk, Rom, Italien - Einer der 13 Obelisken, die derzeit in Rom stehen. Dieser ägyptische monolithische Obelisk befindet sich auf der Piazza del Popolo und ist 24 Meter (67 ft) hoch, 46,5 Meter mit der Basis.\n",
    "Blick über den Petersplatz mit dem Vatikanischen Obelisken in der Mitte. © Lukask. Es gibt eine Reihe von ägyptischen Obelisken in Rom, sogar 13 von ihnen - mehr als irgendwo sonst auf der Welt, einschließlich Ägyptens. Sie alle wurden von verschiedenen römischen Kaisern nach Rom gebracht.t war mit 25,5 m Höhe und einem geschätzten Gewicht von 326 Tonnen der größte nicht beschriftete Obelisk, der Ägypten verließ. Der Obelisk wurde ursprünglich in Gärten errichtet, die Caligula von seiner Mutter geerbt hatte, und dann auf der zentralen Spina von Caligulas Zirkus.\n",
    "Der Obelisk von Istanbul ist 65 Fuß hoch. Rom ist die Obelisken-Hauptstadt der Welt. Der auffälligste ist der 25,5 m/83,6 ft hohe und 331 Tonnen schwere Obelisk auf dem Petersplatz in Rom. Der Obelisk stand seit 37 n. Chr. an seinem Standort an der Wand des Zirkus von Nero, flankiert vom Petersdom.er Obelisk von Istanbul ist 65 Fuß hoch. Rom ist die Obelisken-Hauptstadt der Welt. Der auffälligste ist der 25,5 m/83,6 ft hohe und 331 Tonnen schwere Obelisk auf dem Petersplatz in Rom. Der Obelisk stand seit 37 n. Chr. an seinem Standort an der Wand des Zirkus von Nero, der den Petersdom flankiert.\n",
    "Von den acht in Rom verbliebenen ägyptischen Obelisken ist der Vatikan-Obelisk der bekannteste von allen und steht auf der Piazza de San Pedro. Mit einer Höhe von 25 m und einem Gewicht von rund 330 Tonnen ist er einer der wenigen Obelisken in Rom, der an seinen Seiten keine Inschriften und Hieroglyphen aufweist.er bekannteste der acht in Rom verbliebenen ägyptischen Obelisken ist der Vatikan-Obelisk, der sich auf der Piazza de San Pedro befindet. Mit einer Höhe von 25 m und einem Gewicht von rund 330 Tonnen ist er einer der wenigen Obelisken in Rom, die keine Inschriften und Hieroglyphen an den Seiten aufweisen.\"\"\""
   ]
  },
  {
   "cell_type": "code",
   "execution_count": 19,
   "metadata": {},
   "outputs": [
    {
     "output_type": "execute_result",
     "data": {
      "text/plain": [
       "'83,6'"
      ]
     },
     "metadata": {},
     "execution_count": 19
    }
   ],
   "source": [
    "inputs = tokenizer.encode(QUERY, return_tensors=\"pt\")\n",
    "outputs = model.generate(inputs, max_length=len(inputs[0]))\n",
    "output_text = tokenizer.decode(outputs[0])\n",
    "output_text"
   ]
  },
  {
   "cell_type": "code",
   "execution_count": null,
   "metadata": {},
   "outputs": [],
   "source": []
  }
 ]
}